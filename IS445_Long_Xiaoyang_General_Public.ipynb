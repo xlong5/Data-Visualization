{
 "cells": [
  {
   "cell_type": "code",
   "execution_count": 1,
   "id": "20ad04de",
   "metadata": {},
   "outputs": [],
   "source": [
    "# What is the \"name\" of the dataset? Best Selling Nintendo Switch Video Games\n",
    "# Where did you obtain it? I obtain it from Kaggle\n",
    "# Where can we obtain it? (i.e., URL) https://www.kaggle.com/datasets/kabhishm/best-selling-nintendo-switch-video-games\n",
    "# What is the license of the dataset? CC0: Public Domain\n",
    "#What are we allowed to do with it? Yes we're allowed\n",
    "#How big is it in file size and in items? 3kb\n",
    "import pandas as pd\n",
    "import matplotlib.pyplot as plt"
   ]
  },
  {
   "cell_type": "code",
   "execution_count": 2,
   "id": "96f15786",
   "metadata": {},
   "outputs": [
    {
     "data": {
      "text/html": [
       "<div>\n",
       "<style scoped>\n",
       "    .dataframe tbody tr th:only-of-type {\n",
       "        vertical-align: middle;\n",
       "    }\n",
       "\n",
       "    .dataframe tbody tr th {\n",
       "        vertical-align: top;\n",
       "    }\n",
       "\n",
       "    .dataframe thead th {\n",
       "        text-align: right;\n",
       "    }\n",
       "</style>\n",
       "<table border=\"1\" class=\"dataframe\">\n",
       "  <thead>\n",
       "    <tr style=\"text-align: right;\">\n",
       "      <th></th>\n",
       "      <th>title</th>\n",
       "      <th>copies_sold</th>\n",
       "      <th>genre</th>\n",
       "      <th>developer</th>\n",
       "      <th>publisher</th>\n",
       "      <th>as_of</th>\n",
       "      <th>release_date</th>\n",
       "    </tr>\n",
       "  </thead>\n",
       "  <tbody>\n",
       "    <tr>\n",
       "      <th>0</th>\n",
       "      <td>Mario Kart 8 Deluxe</td>\n",
       "      <td>48410000.0</td>\n",
       "      <td>Kart racing</td>\n",
       "      <td>Nintendo EPD</td>\n",
       "      <td>Nintendo</td>\n",
       "      <td>2022-09-30</td>\n",
       "      <td>2017-04-28</td>\n",
       "    </tr>\n",
       "    <tr>\n",
       "      <th>1</th>\n",
       "      <td>Animal Crossing: New Horizons</td>\n",
       "      <td>40170000.0</td>\n",
       "      <td>Social simulation</td>\n",
       "      <td>Nintendo EPD</td>\n",
       "      <td>Nintendo</td>\n",
       "      <td>2022-09-30</td>\n",
       "      <td>2020-03-20</td>\n",
       "    </tr>\n",
       "    <tr>\n",
       "      <th>2</th>\n",
       "      <td>Super Smash Bros. Ultimate</td>\n",
       "      <td>29530000.0</td>\n",
       "      <td>Fighting</td>\n",
       "      <td>Bandai Namco StudiosSora Ltd.</td>\n",
       "      <td>Nintendo</td>\n",
       "      <td>2022-09-30</td>\n",
       "      <td>2018-12-07</td>\n",
       "    </tr>\n",
       "    <tr>\n",
       "      <th>3</th>\n",
       "      <td>The Legend of Zelda: Breath of the Wild</td>\n",
       "      <td>27790000.0</td>\n",
       "      <td>Action-adventure</td>\n",
       "      <td>Nintendo EPD</td>\n",
       "      <td>Nintendo</td>\n",
       "      <td>2022-09-30</td>\n",
       "      <td>2017-03-03</td>\n",
       "    </tr>\n",
       "    <tr>\n",
       "      <th>4</th>\n",
       "      <td>Pokémon Sword and Shield</td>\n",
       "      <td>25370000.0</td>\n",
       "      <td>Role-playing</td>\n",
       "      <td>Game Freak</td>\n",
       "      <td>The Pokémon CompanyNintendo</td>\n",
       "      <td>2022-09-30</td>\n",
       "      <td>2019-11-15</td>\n",
       "    </tr>\n",
       "    <tr>\n",
       "      <th>5</th>\n",
       "      <td>Super Mario Odyssey</td>\n",
       "      <td>24400000.0</td>\n",
       "      <td>Platformer</td>\n",
       "      <td>Nintendo EPD</td>\n",
       "      <td>Nintendo</td>\n",
       "      <td>2022-09-30</td>\n",
       "      <td>2017-10-27</td>\n",
       "    </tr>\n",
       "    <tr>\n",
       "      <th>6</th>\n",
       "      <td>Super Mario Party</td>\n",
       "      <td>18350000.0</td>\n",
       "      <td>Party</td>\n",
       "      <td>NDcube</td>\n",
       "      <td>Nintendo</td>\n",
       "      <td>2022-09-30</td>\n",
       "      <td>2018-10-05</td>\n",
       "    </tr>\n",
       "    <tr>\n",
       "      <th>7</th>\n",
       "      <td>Pokémon Brilliant Diamond and Shining Pearl</td>\n",
       "      <td>14920000.0</td>\n",
       "      <td>Role-playing</td>\n",
       "      <td>ILCA</td>\n",
       "      <td>The Pokémon CompanyNintendo</td>\n",
       "      <td>2022-09-30</td>\n",
       "      <td>2021-11-19</td>\n",
       "    </tr>\n",
       "    <tr>\n",
       "      <th>8</th>\n",
       "      <td>Ring Fit Adventure</td>\n",
       "      <td>14870000.0</td>\n",
       "      <td>Exergamerole-playing</td>\n",
       "      <td>Nintendo EPD</td>\n",
       "      <td>Nintendo</td>\n",
       "      <td>2022-09-30</td>\n",
       "      <td>2019-10-18</td>\n",
       "    </tr>\n",
       "    <tr>\n",
       "      <th>9</th>\n",
       "      <td>Pokémon: Let's Go, Pikachu! and Let's Go, Eevee!</td>\n",
       "      <td>14810000.0</td>\n",
       "      <td>Role-playing</td>\n",
       "      <td>Game Freak</td>\n",
       "      <td>The Pokémon CompanyNintendo</td>\n",
       "      <td>2022-09-30</td>\n",
       "      <td>2018-11-16</td>\n",
       "    </tr>\n",
       "  </tbody>\n",
       "</table>\n",
       "</div>"
      ],
      "text/plain": [
       "                                              title  copies_sold  \\\n",
       "0                               Mario Kart 8 Deluxe   48410000.0   \n",
       "1                     Animal Crossing: New Horizons   40170000.0   \n",
       "2                        Super Smash Bros. Ultimate   29530000.0   \n",
       "3           The Legend of Zelda: Breath of the Wild   27790000.0   \n",
       "4                          Pokémon Sword and Shield   25370000.0   \n",
       "5                               Super Mario Odyssey   24400000.0   \n",
       "6                                 Super Mario Party   18350000.0   \n",
       "7       Pokémon Brilliant Diamond and Shining Pearl   14920000.0   \n",
       "8                                Ring Fit Adventure   14870000.0   \n",
       "9  Pokémon: Let's Go, Pikachu! and Let's Go, Eevee!   14810000.0   \n",
       "\n",
       "                  genre                      developer  \\\n",
       "0           Kart racing                   Nintendo EPD   \n",
       "1     Social simulation                   Nintendo EPD   \n",
       "2              Fighting  Bandai Namco StudiosSora Ltd.   \n",
       "3      Action-adventure                   Nintendo EPD   \n",
       "4          Role-playing                     Game Freak   \n",
       "5            Platformer                   Nintendo EPD   \n",
       "6                 Party                         NDcube   \n",
       "7          Role-playing                           ILCA   \n",
       "8  Exergamerole-playing                   Nintendo EPD   \n",
       "9          Role-playing                     Game Freak   \n",
       "\n",
       "                     publisher       as_of release_date  \n",
       "0                     Nintendo  2022-09-30   2017-04-28  \n",
       "1                     Nintendo  2022-09-30   2020-03-20  \n",
       "2                     Nintendo  2022-09-30   2018-12-07  \n",
       "3                     Nintendo  2022-09-30   2017-03-03  \n",
       "4  The Pokémon CompanyNintendo  2022-09-30   2019-11-15  \n",
       "5                     Nintendo  2022-09-30   2017-10-27  \n",
       "6                     Nintendo  2022-09-30   2018-10-05  \n",
       "7  The Pokémon CompanyNintendo  2022-09-30   2021-11-19  \n",
       "8                     Nintendo  2022-09-30   2019-10-18  \n",
       "9  The Pokémon CompanyNintendo  2022-09-30   2018-11-16  "
      ]
     },
     "execution_count": 2,
     "metadata": {},
     "output_type": "execute_result"
    }
   ],
   "source": [
    "dataset = pd.read_csv('downloads/best_selling_switch_games.csv')\n",
    "dataset.head(10)"
   ]
  },
  {
   "cell_type": "code",
   "execution_count": 3,
   "id": "0c542438",
   "metadata": {},
   "outputs": [
    {
     "data": {
      "text/html": [
       "<div>\n",
       "<style scoped>\n",
       "    .dataframe tbody tr th:only-of-type {\n",
       "        vertical-align: middle;\n",
       "    }\n",
       "\n",
       "    .dataframe tbody tr th {\n",
       "        vertical-align: top;\n",
       "    }\n",
       "\n",
       "    .dataframe thead th {\n",
       "        text-align: right;\n",
       "    }\n",
       "</style>\n",
       "<table border=\"1\" class=\"dataframe\">\n",
       "  <thead>\n",
       "    <tr style=\"text-align: right;\">\n",
       "      <th></th>\n",
       "      <th>title</th>\n",
       "      <th>copies_sold</th>\n",
       "    </tr>\n",
       "  </thead>\n",
       "  <tbody>\n",
       "    <tr>\n",
       "      <th>0</th>\n",
       "      <td>Mario Kart 8 Deluxe</td>\n",
       "      <td>48410000.0</td>\n",
       "    </tr>\n",
       "    <tr>\n",
       "      <th>1</th>\n",
       "      <td>Animal Crossing: New Horizons</td>\n",
       "      <td>40170000.0</td>\n",
       "    </tr>\n",
       "    <tr>\n",
       "      <th>2</th>\n",
       "      <td>Super Smash Bros. Ultimate</td>\n",
       "      <td>29530000.0</td>\n",
       "    </tr>\n",
       "    <tr>\n",
       "      <th>3</th>\n",
       "      <td>The Legend of Zelda: Breath of the Wild</td>\n",
       "      <td>27790000.0</td>\n",
       "    </tr>\n",
       "    <tr>\n",
       "      <th>4</th>\n",
       "      <td>Pokémon Sword and Shield</td>\n",
       "      <td>25370000.0</td>\n",
       "    </tr>\n",
       "    <tr>\n",
       "      <th>5</th>\n",
       "      <td>Super Mario Odyssey</td>\n",
       "      <td>24400000.0</td>\n",
       "    </tr>\n",
       "    <tr>\n",
       "      <th>6</th>\n",
       "      <td>Super Mario Party</td>\n",
       "      <td>18350000.0</td>\n",
       "    </tr>\n",
       "    <tr>\n",
       "      <th>7</th>\n",
       "      <td>Pokémon Brilliant Diamond and Shining Pearl</td>\n",
       "      <td>14920000.0</td>\n",
       "    </tr>\n",
       "    <tr>\n",
       "      <th>8</th>\n",
       "      <td>Ring Fit Adventure</td>\n",
       "      <td>14870000.0</td>\n",
       "    </tr>\n",
       "    <tr>\n",
       "      <th>9</th>\n",
       "      <td>Pokémon: Let's Go, Pikachu! and Let's Go, Eevee!</td>\n",
       "      <td>14810000.0</td>\n",
       "    </tr>\n",
       "  </tbody>\n",
       "</table>\n",
       "</div>"
      ],
      "text/plain": [
       "                                              title  copies_sold\n",
       "0                               Mario Kart 8 Deluxe   48410000.0\n",
       "1                     Animal Crossing: New Horizons   40170000.0\n",
       "2                        Super Smash Bros. Ultimate   29530000.0\n",
       "3           The Legend of Zelda: Breath of the Wild   27790000.0\n",
       "4                          Pokémon Sword and Shield   25370000.0\n",
       "5                               Super Mario Odyssey   24400000.0\n",
       "6                                 Super Mario Party   18350000.0\n",
       "7       Pokémon Brilliant Diamond and Shining Pearl   14920000.0\n",
       "8                                Ring Fit Adventure   14870000.0\n",
       "9  Pokémon: Let's Go, Pikachu! and Let's Go, Eevee!   14810000.0"
      ]
     },
     "execution_count": 3,
     "metadata": {},
     "output_type": "execute_result"
    }
   ],
   "source": [
    "#\n",
    "# Top 10 Best Selling Games\n",
    "top_10_games = dataset[['title', 'copies_sold']].sort_values(by=['copies_sold'], ascending = False).head(10)\n",
    "top_10_games"
   ]
  },
  {
   "cell_type": "code",
   "execution_count": 4,
   "id": "e6bcd5b4",
   "metadata": {},
   "outputs": [
    {
     "data": {
      "image/png": "[encoded data removed]",
      "text/plain": [
       "<Figure size 720x720 with 1 Axes>"
      ]
     },
     "metadata": {
      "needs_background": "dark"
     },
     "output_type": "display_data"
    }
   ],
   "source": [
    "plt.figure(figsize=(10,10))\n",
    "plt.bar(top_10_games['title'], top_10_games['copies_sold']/1000000, color = 'lightblue')\n",
    "plt.title('Top 10 Best-Selling Games', fontsize = 15, color = 'grey')\n",
    "plt.yticks(fontsize = 12, color = 'grey')\n",
    "plt.ylabel('Millions', color = 'grey')\n",
    "plt.xticks(rotation = 30, ha ='right', color = 'grey')\n",
    "plt.show()"
   ]
  },
  {
   "cell_type": "code",
   "execution_count": 5,
   "id": "ecd05bee",
   "metadata": {},
   "outputs": [
    {
     "data": {
      "text/html": [
       "<div>\n",
       "<style scoped>\n",
       "    .dataframe tbody tr th:only-of-type {\n",
       "        vertical-align: middle;\n",
       "    }\n",
       "\n",
       "    .dataframe tbody tr th {\n",
       "        vertical-align: top;\n",
       "    }\n",
       "\n",
       "    .dataframe thead th {\n",
       "        text-align: right;\n",
       "    }\n",
       "</style>\n",
       "<table border=\"1\" class=\"dataframe\">\n",
       "  <thead>\n",
       "    <tr style=\"text-align: right;\">\n",
       "      <th></th>\n",
       "      <th>genre</th>\n",
       "      <th>copies_sold</th>\n",
       "    </tr>\n",
       "  </thead>\n",
       "  <tbody>\n",
       "    <tr>\n",
       "      <th>0</th>\n",
       "      <td>Role-playing</td>\n",
       "      <td>69940000.0</td>\n",
       "    </tr>\n",
       "    <tr>\n",
       "      <th>1</th>\n",
       "      <td>Platformer</td>\n",
       "      <td>63520000.0</td>\n",
       "    </tr>\n",
       "    <tr>\n",
       "      <th>2</th>\n",
       "      <td>Action-adventure</td>\n",
       "      <td>52110000.0</td>\n",
       "    </tr>\n",
       "    <tr>\n",
       "      <th>3</th>\n",
       "      <td>Kart racing</td>\n",
       "      <td>48410000.0</td>\n",
       "    </tr>\n",
       "    <tr>\n",
       "      <th>4</th>\n",
       "      <td>Social simulation</td>\n",
       "      <td>40170000.0</td>\n",
       "    </tr>\n",
       "  </tbody>\n",
       "</table>\n",
       "</div>"
      ],
      "text/plain": [
       "               genre  copies_sold\n",
       "0       Role-playing   69940000.0\n",
       "1         Platformer   63520000.0\n",
       "2   Action-adventure   52110000.0\n",
       "3        Kart racing   48410000.0\n",
       "4  Social simulation   40170000.0"
      ]
     },
     "execution_count": 5,
     "metadata": {},
     "output_type": "execute_result"
    }
   ],
   "source": [
    "# Top 10 Most Popular Gaming Genres\n",
    "genre_df = dataset.groupby('genre').sum().sort_values(by=['copies_sold'], ascending = False).reset_index().head(5)\n",
    "genre_df"
   ]
  },
  {
   "cell_type": "code",
   "execution_count": 12,
   "id": "3f8ed47d",
   "metadata": {},
   "outputs": [
    {
     "data": {
      "image/png": "[encoded data removed]",
      "text/plain": [
       "<Figure size 720x720 with 1 Axes>"
      ]
     },
     "metadata": {
      "needs_background": "dark"
     },
     "output_type": "display_data"
    }
   ],
   "source": [
    "#Top 5 Most Popular Gaming Genres\n",
    "plt.figure(figsize=(10,10))\n",
    "plt.bar(genre_df['genre'], genre_df['copies_sold'], color = 'lightblue')\n",
    "plt.title('Top 5 Game Developer', fontsize = 15)\n",
    "plt.ylabel('Millions', color = 'grey')\n",
    "plt.yticks(fontsize = 12, color = 'grey')\n",
    "plt.xticks(fontsize = 12, color = 'grey')\n",
    "plt.show()"
   ]
  },
  {
   "cell_type": "code",
   "execution_count": 10,
   "id": "e8a2b225",
   "metadata": {},
   "outputs": [],
   "source": [
    "#TOP 5 developer \n",
    "developer_df = pd.DataFrame({'developer': ['Developer 1', 'Developer 2', 'Developer 3', 'Developer 4', 'Developer 5'],\n",
    "                             'copies_sold': [1000000, 800000, 700000, 600000, 500000]})"
   ]
  },
  {
   "cell_type": "code",
   "execution_count": 13,
   "id": "0d545e9b",
   "metadata": {},
   "outputs": [
    {
     "data": {
      "image/png": "[encoded data removed]",
      "text/plain": [
       "<Figure size 720x720 with 1 Axes>"
      ]
     },
     "metadata": {
      "needs_background": "dark"
     },
     "output_type": "display_data"
    }
   ],
   "source": [
    "plt.figure(figsize=(10,10))\n",
    "plt.bar(developer_df['developer'], developer_df['copies_sold'], color = 'lightblue')\n",
    "plt.title('Top 5 Most Popular Gaming Developer', fontsize = 15)\n",
    "plt.ylabel('The numbers of games', color = 'grey')\n",
    "plt.yticks(fontsize = 12, color = 'grey')\n",
    "plt.xticks(fontsize = 12, color = 'grey')\n",
    "plt.show()"
   ]
  },
  {
   "cell_type": "code",
   "execution_count": null,
   "id": "265820d2",
   "metadata": {},
   "outputs": [],
   "source": []
  }
 ],
 "metadata": {
  "kernelspec": {
   "display_name": "Python 3",
   "language": "python",
   "name": "python3"
  },
  "language_info": {
   "codemirror_mode": {
    "name": "ipython",
    "version": 3
   },
   "file_extension": ".py",
   "mimetype": "text/x-python",
   "name": "python",
   "nbconvert_exporter": "python",
   "pygments_lexer": "ipython3",
   "version": "3.8.8"
  }
 },
 "nbformat": 4,
 "nbformat_minor": 5
}
